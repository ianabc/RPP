{
 "cells": [
  {
   "cell_type": "markdown",
   "metadata": {},
   "source": [
    "# RPP Population Estimates\n",
    "\n",
    "We take a typical size institution with a total poulation of 15000, and estimate its make-up to be\n",
    "\n",
    "  * 60% undergraduate\n",
    "  * 15% graduate\n",
    "  * 11% faculty\n",
    "  * 3% postdoc\n",
    "  * 11% other (e.g. administrative staff)\n",
    "\n",
    "We then estimate an update rate in the first year of 3% for undergraduates and 5% for the other academic groups"
   ]
  },
  {
   "cell_type": "code",
   "execution_count": 1,
   "metadata": {
    "collapsed": true
   },
   "outputs": [],
   "source": [
    "population = 15000"
   ]
  },
  {
   "cell_type": "code",
   "execution_count": 21,
   "metadata": {
    "collapsed": true
   },
   "outputs": [],
   "source": [
    "population_groups = {\n",
    "    'ugrad'  : { 'uptake_rate': 0.03, 'population_fraction': 0.60},\n",
    "    'grad'   : { 'uptake_rate': 0.05, 'population_fraction': 0.15},\n",
    "    'faculty': { 'uptake_rate': 0.05, 'population_fraction': 0.11},\n",
    "    'postdoc': { 'uptake_rate': 0.05, 'population_fraction': 0.03},\n",
    "    'other'  : { 'uptake_rate': 0.00, 'population_fraction': 0.11}\n",
    "}"
   ]
  },
  {
   "cell_type": "code",
   "execution_count": 34,
   "metadata": {
    "collapsed": false
   },
   "outputs": [
    {
     "data": {
      "text/plain": [
       "({'faculty': 82.50000000000001,\n",
       "  'grad': 112.5,\n",
       "  'other': 0.0,\n",
       "  'postdoc': 22.5,\n",
       "  'ugrad': 270.0},\n",
       " 487.5)"
      ]
     },
     "execution_count": 34,
     "metadata": {},
     "output_type": "execute_result"
    }
   ],
   "source": [
    "def uptake_estimate(units=1, scaling=1.0):\n",
    "    users = {}\n",
    "    for group, details in population_groups.items():\n",
    "        users[group] = details['uptake_rate'] * details['population_fraction'] * population * units * scaling\n",
    "    total = sum(users.values())\n",
    "    return(users, total)\n",
    "    \n",
    "        \n",
    "uptake_estimate()"
   ]
  },
  {
   "cell_type": "markdown",
   "metadata": {},
   "source": [
    "Our estimates are based on the number of VM units added (which may be greater than the number of hubs). In year 1, the estimate is for 25 hubs with 5 of those consisting of 2 units each, for a total of 30 units"
   ]
  },
  {
   "cell_type": "code",
   "execution_count": 35,
   "metadata": {
    "collapsed": false
   },
   "outputs": [
    {
     "data": {
      "text/plain": [
       "({'faculty': 2475.0000000000005,\n",
       "  'grad': 3375.0,\n",
       "  'other': 0.0,\n",
       "  'postdoc': 675.0,\n",
       "  'ugrad': 8100.0},\n",
       " 14625.0)"
      ]
     },
     "execution_count": 35,
     "metadata": {},
     "output_type": "execute_result"
    }
   ],
   "source": [
    "uptake_estimate(units=30, scaling=1)"
   ]
  },
  {
   "cell_type": "code",
   "execution_count": 40,
   "metadata": {
    "collapsed": false
   },
   "outputs": [
    {
     "data": {
      "text/plain": [
       "({'faculty': 5940.000000000001,\n",
       "  'grad': 8100.0,\n",
       "  'other': 0.0,\n",
       "  'postdoc': 1620.0,\n",
       "  'ugrad': 19440.0},\n",
       " 35100.0)"
      ]
     },
     "execution_count": 40,
     "metadata": {},
     "output_type": "execute_result"
    }
   ],
   "source": [
    "uptake_estimate(units=60, scaling=1.2)"
   ]
  },
  {
   "cell_type": "code",
   "execution_count": 45,
   "metadata": {
    "collapsed": false
   },
   "outputs": [
    {
     "data": {
      "text/plain": [
       "({'faculty': 13629.000000000002,\n",
       "  'grad': 18585.0,\n",
       "  'other': 0.0,\n",
       "  'postdoc': 3716.9999999999995,\n",
       "  'ugrad': 44604.0},\n",
       " 80535.0)"
      ]
     },
     "execution_count": 45,
     "metadata": {},
     "output_type": "execute_result"
    }
   ],
   "source": [
    "uptake_estimate(units=118, scaling=1.4)"
   ]
  },
  {
   "cell_type": "code",
   "execution_count": null,
   "metadata": {
    "collapsed": true
   },
   "outputs": [],
   "source": []
  },
  {
   "cell_type": "code",
   "execution_count": null,
   "metadata": {
    "collapsed": true
   },
   "outputs": [],
   "source": []
  }
 ],
 "metadata": {
  "kernelspec": {
   "display_name": "Python 3",
   "language": "python",
   "name": "python3"
  },
  "language_info": {
   "codemirror_mode": {
    "name": "ipython",
    "version": 3
   },
   "file_extension": ".py",
   "mimetype": "text/x-python",
   "name": "python",
   "nbconvert_exporter": "python",
   "pygments_lexer": "ipython3",
   "version": "3.5.2"
  }
 },
 "nbformat": 4,
 "nbformat_minor": 1
}
